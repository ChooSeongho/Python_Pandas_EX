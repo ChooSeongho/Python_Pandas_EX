{
  "nbformat": 4,
  "nbformat_minor": 0,
  "metadata": {
    "colab": {
      "name": "pandas",
      "provenance": [],
      "collapsed_sections": [],
      "authorship_tag": "ABX9TyOlIksE9UFlSJNjLMvVtVP/",
      "include_colab_link": true
    },
    "kernelspec": {
      "name": "python3",
      "display_name": "Python 3"
    }
  },
  "cells": [
    {
      "cell_type": "markdown",
      "metadata": {
        "id": "view-in-github",
        "colab_type": "text"
      },
      "source": [
        "<a href=\"https://colab.research.google.com/github/choosungho/Python_Pandas_EX/blob/master/pandas.ipynb\" target=\"_parent\"><img src=\"https://colab.research.google.com/assets/colab-badge.svg\" alt=\"Open In Colab\"/></a>"
      ]
    },
    {
      "cell_type": "markdown",
      "metadata": {
        "id": "e9REoYk6F9ms",
        "colab_type": "text"
      },
      "source": [
        "# Series **객채**"
      ]
    },
    {
      "cell_type": "code",
      "metadata": {
        "id": "eLR8yRmyE6tt",
        "colab_type": "code",
        "colab": {
          "base_uri": "https://localhost:8080/",
          "height": 305
        },
        "outputId": "2f3f06ca-7677-4a0b-d97d-9198fb35963b"
      },
      "source": [
        "import pandas as pd\n",
        "data = ['2016', '2017', '2018', '2019']\n",
        "result = pd.Series(data)\n",
        "\n",
        "print(result)\n",
        "\n",
        "result.name = \"Year\"\n",
        "print(result)\n",
        "\n",
        "result.index.name = 'No'\n",
        "print(result)"
      ],
      "execution_count": 10,
      "outputs": [
        {
          "output_type": "stream",
          "text": [
            "0    2016\n",
            "1    2017\n",
            "2    2018\n",
            "3    2019\n",
            "dtype: object\n",
            "0    2016\n",
            "1    2017\n",
            "2    2018\n",
            "3    2019\n",
            "Name: Year, dtype: object\n",
            "No\n",
            "0    2016\n",
            "1    2017\n",
            "2    2018\n",
            "3    2019\n",
            "Name: Year, dtype: object\n"
          ],
          "name": "stdout"
        }
      ]
    },
    {
      "cell_type": "code",
      "metadata": {
        "id": "IwcA2ulIGgBk",
        "colab_type": "code",
        "colab": {
          "base_uri": "https://localhost:8080/",
          "height": 107
        },
        "outputId": "8a1f373e-43a7-4081-efd3-09b1a2e2b3f5"
      },
      "source": [
        "result = pd.Series(data, index=['a','b','c','d'])\n",
        "print(result)"
      ],
      "execution_count": 12,
      "outputs": [
        {
          "output_type": "stream",
          "text": [
            "a    2016\n",
            "b    2017\n",
            "c    2018\n",
            "d    2019\n",
            "dtype: object\n"
          ],
          "name": "stdout"
        }
      ]
    },
    {
      "cell_type": "code",
      "metadata": {
        "id": "vExVvKmDGhYT",
        "colab_type": "code",
        "colab": {
          "base_uri": "https://localhost:8080/",
          "height": 179
        },
        "outputId": "6d620e76-44e1-4831-9d6e-e777fd524511"
      },
      "source": [
        "score = {\"kim\":85, \"Hwang\":100, \"Lee\":99, \"Choi\":80}\n",
        "result = pd.Series(score)\n",
        "print(result)\n",
        "\n",
        "print(result.index)\n",
        "print(result.values)\n",
        "print(result['Lee'])\n",
        "print(result['Hwang'])"
      ],
      "execution_count": 21,
      "outputs": [
        {
          "output_type": "stream",
          "text": [
            "kim       85\n",
            "Hwang    100\n",
            "Lee       99\n",
            "Choi      80\n",
            "dtype: int64\n",
            "Index(['kim', 'Hwang', 'Lee', 'Choi'], dtype='object')\n",
            "[ 85 100  99  80]\n",
            "99\n",
            "100\n"
          ],
          "name": "stdout"
        }
      ]
    }
  ]
}