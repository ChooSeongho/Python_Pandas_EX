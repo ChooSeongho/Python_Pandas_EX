{
  "nbformat": 4,
  "nbformat_minor": 0,
  "metadata": {
    "colab": {
      "name": "pandas",
      "provenance": [],
      "collapsed_sections": [],
      "authorship_tag": "ABX9TyNCXYVoD2DyBB59EsxsOZi3",
      "include_colab_link": true
    },
    "kernelspec": {
      "name": "python3",
      "display_name": "Python 3"
    }
  },
  "cells": [
    {
      "cell_type": "markdown",
      "metadata": {
        "id": "view-in-github",
        "colab_type": "text"
      },
      "source": [
        "<a href=\"https://colab.research.google.com/github/choosungho/Python_Pandas_EX/blob/master/pandas.ipynb\" target=\"_parent\"><img src=\"https://colab.research.google.com/assets/colab-badge.svg\" alt=\"Open In Colab\"/></a>"
      ]
    },
    {
      "cell_type": "markdown",
      "metadata": {
        "id": "e9REoYk6F9ms",
        "colab_type": "text"
      },
      "source": [
        "# Series **객체**"
      ]
    },
    {
      "cell_type": "code",
      "metadata": {
        "id": "eLR8yRmyE6tt",
        "colab_type": "code",
        "outputId": "69562cbd-fd98-47b0-871f-24ca29452000",
        "colab": {
          "base_uri": "https://localhost:8080/",
          "height": 305
        }
      },
      "source": [
        "import pandas as pd\n",
        "data = ['2016', '2017', '2018', '2019']\n",
        "result = pd.Series(data)\n",
        "\n",
        "print(result)\n",
        "\n",
        "result.name = \"Year\"\n",
        "print(result)\n",
        "\n",
        "result.index.name = 'No'\n",
        "print(result)"
      ],
      "execution_count": 3,
      "outputs": [
        {
          "output_type": "stream",
          "text": [
            "0    2016\n",
            "1    2017\n",
            "2    2018\n",
            "3    2019\n",
            "dtype: object\n",
            "0    2016\n",
            "1    2017\n",
            "2    2018\n",
            "3    2019\n",
            "Name: Year, dtype: object\n",
            "No\n",
            "0    2016\n",
            "1    2017\n",
            "2    2018\n",
            "3    2019\n",
            "Name: Year, dtype: object\n"
          ],
          "name": "stdout"
        }
      ]
    },
    {
      "cell_type": "code",
      "metadata": {
        "id": "IwcA2ulIGgBk",
        "colab_type": "code",
        "outputId": "8a1f373e-43a7-4081-efd3-09b1a2e2b3f5",
        "colab": {
          "base_uri": "https://localhost:8080/",
          "height": 107
        }
      },
      "source": [
        "result = pd.Series(data, index=['a','b','c','d'])\n",
        "print(result)"
      ],
      "execution_count": 0,
      "outputs": [
        {
          "output_type": "stream",
          "text": [
            "a    2016\n",
            "b    2017\n",
            "c    2018\n",
            "d    2019\n",
            "dtype: object\n"
          ],
          "name": "stdout"
        }
      ]
    },
    {
      "cell_type": "code",
      "metadata": {
        "id": "vExVvKmDGhYT",
        "colab_type": "code",
        "outputId": "1d52064c-1e39-4d05-96ac-93a6e217551d",
        "colab": {
          "base_uri": "https://localhost:8080/",
          "height": 179
        }
      },
      "source": [
        "import pandas as pd\n",
        "score = {\"kim\":85, \"Hwang\":100, \"Lee\":99, \"Choi\":80}\n",
        "result = pd.Series(score)\n",
        "print(result)\n",
        "\n",
        "print(result.index)\n",
        "print(result.values)\n",
        "print(result['Lee'])\n",
        "print(result['Hwang'])"
      ],
      "execution_count": 5,
      "outputs": [
        {
          "output_type": "stream",
          "text": [
            "kim       85\n",
            "Hwang    100\n",
            "Lee       99\n",
            "Choi      80\n",
            "dtype: int64\n",
            "Index(['kim', 'Hwang', 'Lee', 'Choi'], dtype='object')\n",
            "[ 85 100  99  80]\n",
            "99\n",
            "100\n"
          ],
          "name": "stdout"
        }
      ]
    },
    {
      "cell_type": "markdown",
      "metadata": {
        "id": "hM5eK-89ldWA",
        "colab_type": "text"
      },
      "source": [
        "# **DataFrame**"
      ]
    },
    {
      "cell_type": "code",
      "metadata": {
        "id": "Cxpt0ascXLMI",
        "colab_type": "code",
        "colab": {
          "base_uri": "https://localhost:8080/",
          "height": 233
        },
        "outputId": "91ea9a70-036c-4276-9df6-977f84286e3f"
      },
      "source": [
        "import pandas as pd\n",
        "data = {'name' : ['Lee', 'Hwang', 'Kim', 'Choi'],\"score\": [100,95,90,85],'grade' : ['A','A','B','B']}\n",
        "df = pd.DataFrame(data)\n",
        "df.index.name = 'No'\n",
        "df.columns.name = 'Info'\n",
        "print(df)\n",
        "print(df.index)\n",
        "print(df.columns)\n",
        "print(df.values)"
      ],
      "execution_count": 20,
      "outputs": [
        {
          "output_type": "stream",
          "text": [
            "Info   name  score grade\n",
            "No                      \n",
            "0       Lee    100     A\n",
            "1     Hwang     95     A\n",
            "2       Kim     90     B\n",
            "3      Choi     85     B\n",
            "RangeIndex(start=0, stop=4, step=1, name='No')\n",
            "Index(['name', 'score', 'grade'], dtype='object', name='Info')\n",
            "[['Lee' 100 'A']\n",
            " ['Hwang' 95 'A']\n",
            " ['Kim' 90 'B']\n",
            " ['Choi' 85 'B']]\n"
          ],
          "name": "stdout"
        }
      ]
    },
    {
      "cell_type": "code",
      "metadata": {
        "id": "-iROE3ppdU4_",
        "colab_type": "code",
        "colab": {
          "base_uri": "https://localhost:8080/",
          "height": 173
        },
        "outputId": "f106b526-400a-4a1b-a00d-1fb2673352e6"
      },
      "source": [
        "import pandas as pd\n",
        "data = {'name' : ['Lee', 'Hwang', 'Kim', 'Choi'],\"score\": [100,95,90,85],'grade' : ['A','A','B','B']}\n",
        "df = pd.DataFrame(data)\n",
        "c = ['name', 'grade', 'score', 'etc']\n",
        "df2 = pd.DataFrame(data, columns=c)\n",
        "df2"
      ],
      "execution_count": 21,
      "outputs": [
        {
          "output_type": "execute_result",
          "data": {
            "text/html": [
              "<div>\n",
              "<style scoped>\n",
              "    .dataframe tbody tr th:only-of-type {\n",
              "        vertical-align: middle;\n",
              "    }\n",
              "\n",
              "    .dataframe tbody tr th {\n",
              "        vertical-align: top;\n",
              "    }\n",
              "\n",
              "    .dataframe thead th {\n",
              "        text-align: right;\n",
              "    }\n",
              "</style>\n",
              "<table border=\"1\" class=\"dataframe\">\n",
              "  <thead>\n",
              "    <tr style=\"text-align: right;\">\n",
              "      <th></th>\n",
              "      <th>name</th>\n",
              "      <th>grade</th>\n",
              "      <th>score</th>\n",
              "      <th>etc</th>\n",
              "    </tr>\n",
              "  </thead>\n",
              "  <tbody>\n",
              "    <tr>\n",
              "      <th>0</th>\n",
              "      <td>Lee</td>\n",
              "      <td>A</td>\n",
              "      <td>100</td>\n",
              "      <td>NaN</td>\n",
              "    </tr>\n",
              "    <tr>\n",
              "      <th>1</th>\n",
              "      <td>Hwang</td>\n",
              "      <td>A</td>\n",
              "      <td>95</td>\n",
              "      <td>NaN</td>\n",
              "    </tr>\n",
              "    <tr>\n",
              "      <th>2</th>\n",
              "      <td>Kim</td>\n",
              "      <td>B</td>\n",
              "      <td>90</td>\n",
              "      <td>NaN</td>\n",
              "    </tr>\n",
              "    <tr>\n",
              "      <th>3</th>\n",
              "      <td>Choi</td>\n",
              "      <td>B</td>\n",
              "      <td>85</td>\n",
              "      <td>NaN</td>\n",
              "    </tr>\n",
              "  </tbody>\n",
              "</table>\n",
              "</div>"
            ],
            "text/plain": [
              "    name grade  score  etc\n",
              "0    Lee     A    100  NaN\n",
              "1  Hwang     A     95  NaN\n",
              "2    Kim     B     90  NaN\n",
              "3   Choi     B     85  NaN"
            ]
          },
          "metadata": {
            "tags": []
          },
          "execution_count": 21
        }
      ]
    },
    {
      "cell_type": "code",
      "metadata": {
        "id": "_WTHA70ReQEW",
        "colab_type": "code",
        "colab": {
          "base_uri": "https://localhost:8080/",
          "height": 593
        },
        "outputId": "908c5881-5374-44cd-e0ba-5c2f698f323e"
      },
      "source": [
        "import pandas as pd\n",
        "data = {'name' : ['David', 'Roy', 'Tina', 'Kim'], 'score' : [78,64,70,62], 'grade' : ['C','D','C','D']}\n",
        "df = pd.DataFrame(data)\n",
        "df.index.name = 'No'\n",
        "df.columns.name = 'Info'\n",
        "print(df)\n",
        "col = ['name', 'grade', 'score', 'etc']\n",
        "df2 = pd.DataFrame(data, columns=col)\n",
        "print(df2)\n",
        "print()\n",
        "print(df2['name'])\n",
        "print(df2.name)\n",
        "print(df2[['name','grade']])\n",
        "print(df2[['etc','name']])"
      ],
      "execution_count": 34,
      "outputs": [
        {
          "output_type": "stream",
          "text": [
            "Info   name  score grade\n",
            "No                      \n",
            "0     David     78     C\n",
            "1       Roy     64     D\n",
            "2      Tina     70     C\n",
            "3       Kim     62     D\n",
            "    name grade  score  etc\n",
            "0  David     C     78  NaN\n",
            "1    Roy     D     64  NaN\n",
            "2   Tina     C     70  NaN\n",
            "3    Kim     D     62  NaN\n",
            "\n",
            "0    David\n",
            "1      Roy\n",
            "2     Tina\n",
            "3      Kim\n",
            "Name: name, dtype: object\n",
            "0    David\n",
            "1      Roy\n",
            "2     Tina\n",
            "3      Kim\n",
            "Name: name, dtype: object\n",
            "    name grade\n",
            "0  David     C\n",
            "1    Roy     D\n",
            "2   Tina     C\n",
            "3    Kim     D\n",
            "   etc   name\n",
            "0  NaN  David\n",
            "1  NaN    Roy\n",
            "2  NaN   Tina\n",
            "3  NaN    Kim\n"
          ],
          "name": "stdout"
        }
      ]
    },
    {
      "cell_type": "code",
      "metadata": {
        "id": "WMPpmboRgWmG",
        "colab_type": "code",
        "colab": {
          "base_uri": "https://localhost:8080/",
          "height": 377
        },
        "outputId": "1154ab9b-7119-4ed5-e7aa-6a08df9c8bc7"
      },
      "source": [
        "#pandas 인덱싱 연습문제\n",
        "import pandas as pd\n",
        "data = {'name' : ['David', 'Roy', 'Tina', 'Kim'], 'grade' : ['C','D','C','D'], 'score' : [78,64,70,62]}\n",
        "col = ['name','grade','score','etc']\n",
        "df = pd.DataFrame(data, columns=col)\n",
        "for column in df.keys():\n",
        "  print(df[column])"
      ],
      "execution_count": 43,
      "outputs": [
        {
          "output_type": "stream",
          "text": [
            "0    David\n",
            "1      Roy\n",
            "2     Tina\n",
            "3      Kim\n",
            "Name: name, dtype: object\n",
            "0    C\n",
            "1    D\n",
            "2    C\n",
            "3    D\n",
            "Name: grade, dtype: object\n",
            "0    78\n",
            "1    64\n",
            "2    70\n",
            "3    62\n",
            "Name: score, dtype: int64\n",
            "0    NaN\n",
            "1    NaN\n",
            "2    NaN\n",
            "3    NaN\n",
            "Name: etc, dtype: object\n"
          ],
          "name": "stdout"
        }
      ]
    },
    {
      "cell_type": "code",
      "metadata": {
        "id": "8Sx3wfVJkia_",
        "colab_type": "code",
        "colab": {
          "base_uri": "https://localhost:8080/",
          "height": 197
        },
        "outputId": "cf328a0f-badc-4aaa-edbd-e931adb4ad34"
      },
      "source": [
        "import pandas as pd\n",
        "data = {'name' : ['David', 'Roy', 'Tina', 'Kim'], 'score' : [78,64,70,62], 'grade' : ['C','D','C','D']}\n",
        "col = ['name', 'grade', 'score', 'etc']\n",
        "df = pd.DataFrame(data, columns=col)\n",
        "df['etc'] = [11,22,33,44]\n",
        "print(df)\n",
        "df['etc'] = 0\n",
        "print(df)"
      ],
      "execution_count": 46,
      "outputs": [
        {
          "output_type": "stream",
          "text": [
            "    name grade  score  etc\n",
            "0  David     C     78   11\n",
            "1    Roy     D     64   22\n",
            "2   Tina     C     70   33\n",
            "3    Kim     D     62   44\n",
            "    name grade  score  etc\n",
            "0  David     C     78    0\n",
            "1    Roy     D     64    0\n",
            "2   Tina     C     70    0\n",
            "3    Kim     D     62    0\n"
          ],
          "name": "stdout"
        }
      ]
    },
    {
      "cell_type": "code",
      "metadata": {
        "id": "5tzJupRplIMn",
        "colab_type": "code",
        "colab": {
          "base_uri": "https://localhost:8080/",
          "height": 107
        },
        "outputId": "823865ec-b0d5-490a-b75d-b526b5ff74e3"
      },
      "source": [
        "#pandas 데이터 변경 연습문제\n",
        "import pandas as pd\n",
        "data = {'name' : ['David', 'Roy', 'Tina', 'Kim'], 'score' : [78,64,70,62], 'grade' : ['C','D','C','D']}\n",
        "col = ['name', 'grade', 'score', 'etc']\n",
        "df = pd.DataFrame(data, columns=col)\n",
        "df['etc'] = [99,88,77,66]\n",
        "print(df)"
      ],
      "execution_count": 48,
      "outputs": [
        {
          "output_type": "stream",
          "text": [
            "    name grade  score  etc\n",
            "0  David     C     78   99\n",
            "1    Roy     D     64   88\n",
            "2   Tina     C     70   77\n",
            "3    Kim     D     62   66\n"
          ],
          "name": "stdout"
        }
      ]
    },
    {
      "cell_type": "code",
      "metadata": {
        "id": "PuTV-sRfmtu4",
        "colab_type": "code",
        "colab": {
          "base_uri": "https://localhost:8080/",
          "height": 917
        },
        "outputId": "4967c51e-557a-4857-f2de-fc2d8dde0667"
      },
      "source": [
        "import pandas as pd\n",
        "import numpy as np\n",
        "data = {'name':['Lee', 'hwang', 'Kim', 'Choi'], 'score':[100,95,90,85], 'grade':['A','A','B','B']}\n",
        "df2 = pd.DataFrame(data)\n",
        "df2['etc'] = np.zeros(4)\n",
        "print(df2)\n",
        "print()\n",
        "points = pd.Series([1.5,1.7,2.4], index=[0,1,2])\n",
        "print(points)\n",
        "print()\n",
        "df2['points'] = points\n",
        "print(df2)\n",
        "print()\n",
        "df2['high_score'] = df2['score'] > 90\n",
        "print(df2)\n",
        "#loc => loc[행조건, 열조건]\n",
        "df2.loc[5,:] = ['Su', 'C', 70, 0.0, 1.1, False]\n",
        "print(df2)\n",
        "del df2['etc']\n",
        "print(df2)\n",
        "print(df2.drop(5))\n",
        "print(df2)\n",
        "df2.drop(5, inplace=True)\n",
        "print(df2)"
      ],
      "execution_count": 63,
      "outputs": [
        {
          "output_type": "stream",
          "text": [
            "    name  score grade  etc\n",
            "0    Lee    100     A  0.0\n",
            "1  hwang     95     A  0.0\n",
            "2    Kim     90     B  0.0\n",
            "3   Choi     85     B  0.0\n",
            "\n",
            "0    1.5\n",
            "1    1.7\n",
            "2    2.4\n",
            "dtype: float64\n",
            "\n",
            "    name  score grade  etc  points\n",
            "0    Lee    100     A  0.0     1.5\n",
            "1  hwang     95     A  0.0     1.7\n",
            "2    Kim     90     B  0.0     2.4\n",
            "3   Choi     85     B  0.0     NaN\n",
            "\n",
            "    name  score grade  etc  points  high_score\n",
            "0    Lee    100     A  0.0     1.5        True\n",
            "1  hwang     95     A  0.0     1.7        True\n",
            "2    Kim     90     B  0.0     2.4       False\n",
            "3   Choi     85     B  0.0     NaN       False\n",
            "    name score grade  etc  points  high_score\n",
            "0    Lee   100     A  0.0     1.5        True\n",
            "1  hwang    95     A  0.0     1.7        True\n",
            "2    Kim    90     B  0.0     2.4       False\n",
            "3   Choi    85     B  0.0     NaN       False\n",
            "5     Su     C    70  0.0     1.1       False\n",
            "    name score grade  points  high_score\n",
            "0    Lee   100     A     1.5        True\n",
            "1  hwang    95     A     1.7        True\n",
            "2    Kim    90     B     2.4       False\n",
            "3   Choi    85     B     NaN       False\n",
            "5     Su     C    70     1.1       False\n",
            "    name score grade  points  high_score\n",
            "0    Lee   100     A     1.5        True\n",
            "1  hwang    95     A     1.7        True\n",
            "2    Kim    90     B     2.4       False\n",
            "3   Choi    85     B     NaN       False\n",
            "    name score grade  points  high_score\n",
            "0    Lee   100     A     1.5        True\n",
            "1  hwang    95     A     1.7        True\n",
            "2    Kim    90     B     2.4       False\n",
            "3   Choi    85     B     NaN       False\n",
            "5     Su     C    70     1.1       False\n",
            "    name score grade  points  high_score\n",
            "0    Lee   100     A     1.5        True\n",
            "1  hwang    95     A     1.7        True\n",
            "2    Kim    90     B     2.4       False\n",
            "3   Choi    85     B     NaN       False\n"
          ],
          "name": "stdout"
        }
      ]
    },
    {
      "cell_type": "code",
      "metadata": {
        "id": "fnYw4eD4p__1",
        "colab_type": "code",
        "colab": {
          "base_uri": "https://localhost:8080/",
          "height": 755
        },
        "outputId": "e7569ecd-acc8-4243-9b08-133da0e1c1c6"
      },
      "source": [
        "import pandas as pd\n",
        "import numpy as np\n",
        "data = {'name':['Lee', 'hwang', 'Kim', 'Choi'], 'score':[100,95,90,85], 'grade':['A','A','B','B']}\n",
        "df2 = pd.DataFrame(data)\n",
        "points = pd.Series([1.5,1.7,2.4], index=[0,1,2])\n",
        "df2['points'] = points\n",
        "df2['high_score'] = df2['score'] > 90\n",
        "print(df2)\n",
        "df2.set_index('name', inplace=True)\n",
        "print(df2)\n",
        "print(df2[1:3])\n",
        "print(df2[:2])\n",
        "print()\n",
        "print(df2.loc['Lee'])\n",
        "print()\n",
        "print(df2.loc[['Lee','Choi']])\n",
        "print()\n",
        "print(df2.loc[:'Kim'])\n",
        "print()\n",
        "print(df2.loc['Kim':'Choi', ['grade', 'high_score']])"
      ],
      "execution_count": 71,
      "outputs": [
        {
          "output_type": "stream",
          "text": [
            "    name  score grade  points  high_score\n",
            "0    Lee    100     A     1.5        True\n",
            "1  hwang     95     A     1.7        True\n",
            "2    Kim     90     B     2.4       False\n",
            "3   Choi     85     B     NaN       False\n",
            "       score grade  points  high_score\n",
            "name                                  \n",
            "Lee      100     A     1.5        True\n",
            "hwang     95     A     1.7        True\n",
            "Kim       90     B     2.4       False\n",
            "Choi      85     B     NaN       False\n",
            "       score grade  points  high_score\n",
            "name                                  \n",
            "hwang     95     A     1.7        True\n",
            "Kim       90     B     2.4       False\n",
            "       score grade  points  high_score\n",
            "name                                  \n",
            "Lee      100     A     1.5        True\n",
            "hwang     95     A     1.7        True\n",
            "\n",
            "score          100\n",
            "grade            A\n",
            "points         1.5\n",
            "high_score    True\n",
            "Name: Lee, dtype: object\n",
            "\n",
            "      score grade  points  high_score\n",
            "name                                 \n",
            "Lee     100     A     1.5        True\n",
            "Choi     85     B     NaN       False\n",
            "\n",
            "       score grade  points  high_score\n",
            "name                                  \n",
            "Lee      100     A     1.5        True\n",
            "hwang     95     A     1.7        True\n",
            "Kim       90     B     2.4       False\n",
            "\n",
            "     grade  high_score\n",
            "name                  \n",
            "Kim      B       False\n",
            "Choi     B       False\n"
          ],
          "name": "stdout"
        }
      ]
    },
    {
      "cell_type": "code",
      "metadata": {
        "id": "5SLTj42ps_zI",
        "colab_type": "code",
        "colab": {
          "base_uri": "https://localhost:8080/",
          "height": 341
        },
        "outputId": "6e7d31d7-0e32-4b83-eef4-0df8eddb30ce"
      },
      "source": [
        "import pandas as pd\n",
        "import numpy as np\n",
        "data = {'name':['Lee', 'hwang', 'Kim', 'Choi'], 'score':[100,95,90,85], 'grade':['A','A','B','B']}\n",
        "df2 = pd.DataFrame(data)\n",
        "points = pd.Series([1.5,1.7,2.4], index=[0,1,2])\n",
        "df2['points'] = points\n",
        "df2['high_score'] = df2['score'] > 90\n",
        "df2.set_index('name', inplace=True)\n",
        "print(df2.iloc[0:3])\n",
        "#print(df2.iloc[4])  #--> index error 발생\n",
        "print(df2.iloc[0:3, 1:3])\n",
        "print(df2.loc[df2['points'] > 1.5, :])\n",
        "print(df2.loc[df2['grade'] == 'A', :])"
      ],
      "execution_count": 77,
      "outputs": [
        {
          "output_type": "stream",
          "text": [
            "       score grade  points  high_score\n",
            "name                                  \n",
            "Lee      100     A     1.5        True\n",
            "hwang     95     A     1.7        True\n",
            "Kim       90     B     2.4       False\n",
            "      grade  points\n",
            "name               \n",
            "Lee       A     1.5\n",
            "hwang     A     1.7\n",
            "Kim       B     2.4\n",
            "       score grade  points  high_score\n",
            "name                                  \n",
            "hwang     95     A     1.7        True\n",
            "Kim       90     B     2.4       False\n",
            "       score grade  points  high_score\n",
            "name                                  \n",
            "Lee      100     A     1.5        True\n",
            "hwang     95     A     1.7        True\n"
          ],
          "name": "stdout"
        }
      ]
    },
    {
      "cell_type": "code",
      "metadata": {
        "id": "UJa7tKCb2gNI",
        "colab_type": "code",
        "colab": {
          "base_uri": "https://localhost:8080/",
          "height": 647
        },
        "outputId": "b9e8a111-4fcc-4961-fcea-5d217262d245"
      },
      "source": [
        "import pandas as pd\n",
        "import numpy as np\n",
        "df = pd.DataFrame(np.arange(18).reshape(6,3), index=['a','b','c','d','e','f'], columns=['x','y','z'])\n",
        "df['data1'] = pd.Series([1.7, 1.2, 2.4], index=['a','e','c'])\n",
        "df['date'] = pd.date_range('20190717', periods=6)\n",
        "df\n",
        "df.dropna(how='all') # 행 데이터 값이 모두 NaN인 경우 행 삭제. inplace=True 설정으로 원본데이터를 결과값으로 변경 가능\n",
        "df.dropna(how='any') # 행 데이터 값 중 하나라도 NaN 인 경우 해당 행 삭제. inplace=True 설정으로 원본데이터를 결과값으로 변경 가능\n",
        "df['data2'] = np.nan\n",
        "df.isnull() # DataFrame 내 데이터 값 중 NaN 값은 True, 아닌 값은 False로 출력\n",
        "df.fillna(value='not null') # DataFrame 내 데이터 값 중 NaN 값을 value 값으로 변경하여 출력. inplace=True 설정으로 원본데이터를 결과값으로 변경 가능\n",
        "df.fillna(value='not null', inplace=True)\n",
        "df['data2'] = [55, np.nan, np.nan, 77, np.nan, 33]\n",
        "df.index = ['f', 'a', 'y', 'i', 'b', 'e']\n",
        "print(df)\n",
        "print(df.sort_index()) # 오름차순 정렬\n",
        "print(df.sort_index(ascending=False)) # 내림차순 정렬\n",
        "print(df.sort_index(axis=1, ascending=False)) # axis=1 --> column 명을 기준으로 정렬\n",
        "print(df.sort_values(by='data2')) # 특정 column명을 기준으로 정렬"
      ],
      "execution_count": 101,
      "outputs": [
        {
          "output_type": "stream",
          "text": [
            "    x   y   z     data1       date  data2\n",
            "f   0   1   2       1.7 2019-07-17   55.0\n",
            "a   3   4   5  not null 2019-07-18    NaN\n",
            "y   6   7   8       2.4 2019-07-19    NaN\n",
            "i   9  10  11  not null 2019-07-20   77.0\n",
            "b  12  13  14       1.2 2019-07-21    NaN\n",
            "e  15  16  17  not null 2019-07-22   33.0\n",
            "    x   y   z     data1       date  data2\n",
            "a   3   4   5  not null 2019-07-18    NaN\n",
            "b  12  13  14       1.2 2019-07-21    NaN\n",
            "e  15  16  17  not null 2019-07-22   33.0\n",
            "f   0   1   2       1.7 2019-07-17   55.0\n",
            "i   9  10  11  not null 2019-07-20   77.0\n",
            "y   6   7   8       2.4 2019-07-19    NaN\n",
            "    x   y   z     data1       date  data2\n",
            "y   6   7   8       2.4 2019-07-19    NaN\n",
            "i   9  10  11  not null 2019-07-20   77.0\n",
            "f   0   1   2       1.7 2019-07-17   55.0\n",
            "e  15  16  17  not null 2019-07-22   33.0\n",
            "b  12  13  14       1.2 2019-07-21    NaN\n",
            "a   3   4   5  not null 2019-07-18    NaN\n",
            "    z   y   x       date  data2     data1\n",
            "f   2   1   0 2019-07-17   55.0       1.7\n",
            "a   5   4   3 2019-07-18    NaN  not null\n",
            "y   8   7   6 2019-07-19    NaN       2.4\n",
            "i  11  10   9 2019-07-20   77.0  not null\n",
            "b  14  13  12 2019-07-21    NaN       1.2\n",
            "e  17  16  15 2019-07-22   33.0  not null\n",
            "    x   y   z     data1       date  data2\n",
            "e  15  16  17  not null 2019-07-22   33.0\n",
            "f   0   1   2       1.7 2019-07-17   55.0\n",
            "i   9  10  11  not null 2019-07-20   77.0\n",
            "a   3   4   5  not null 2019-07-18    NaN\n",
            "y   6   7   8       2.4 2019-07-19    NaN\n",
            "b  12  13  14       1.2 2019-07-21    NaN\n"
          ],
          "name": "stdout"
        }
      ]
    },
    {
      "cell_type": "code",
      "metadata": {
        "id": "0jVe4mDj7aRk",
        "colab_type": "code",
        "colab": {
          "base_uri": "https://localhost:8080/",
          "height": 390
        },
        "outputId": "25ed6e63-8674-45e6-fdbb-f47c7b6f5bac"
      },
      "source": [
        "import pandas as pd\n",
        "# df = pd.DataFrame(pd.read_html('https://finance.naver.com/item/sise_day.nhn?code=005930', header=0)[0])\n",
        "df = pd.DataFrame(pd.read_html('https://finance.naver.com/item/sise_day.nhn?code=005930')[0])\n",
        "df.dropna(how='all')\n",
        "df.set_index('날짜').dropna(how='all')"
      ],
      "execution_count": 128,
      "outputs": [
        {
          "output_type": "execute_result",
          "data": {
            "text/html": [
              "<div>\n",
              "<style scoped>\n",
              "    .dataframe tbody tr th:only-of-type {\n",
              "        vertical-align: middle;\n",
              "    }\n",
              "\n",
              "    .dataframe tbody tr th {\n",
              "        vertical-align: top;\n",
              "    }\n",
              "\n",
              "    .dataframe thead th {\n",
              "        text-align: right;\n",
              "    }\n",
              "</style>\n",
              "<table border=\"1\" class=\"dataframe\">\n",
              "  <thead>\n",
              "    <tr style=\"text-align: right;\">\n",
              "      <th></th>\n",
              "      <th>종가</th>\n",
              "      <th>전일비</th>\n",
              "      <th>시가</th>\n",
              "      <th>고가</th>\n",
              "      <th>저가</th>\n",
              "      <th>거래량</th>\n",
              "    </tr>\n",
              "    <tr>\n",
              "      <th>날짜</th>\n",
              "      <th></th>\n",
              "      <th></th>\n",
              "      <th></th>\n",
              "      <th></th>\n",
              "      <th></th>\n",
              "      <th></th>\n",
              "    </tr>\n",
              "  </thead>\n",
              "  <tbody>\n",
              "    <tr>\n",
              "      <th>2020.01.14</th>\n",
              "      <td>60100.0</td>\n",
              "      <td>100.0</td>\n",
              "      <td>60400.0</td>\n",
              "      <td>61000.0</td>\n",
              "      <td>60000.0</td>\n",
              "      <td>11257575.0</td>\n",
              "    </tr>\n",
              "    <tr>\n",
              "      <th>2020.01.13</th>\n",
              "      <td>60000.0</td>\n",
              "      <td>500.0</td>\n",
              "      <td>59600.0</td>\n",
              "      <td>60000.0</td>\n",
              "      <td>59100.0</td>\n",
              "      <td>11359139.0</td>\n",
              "    </tr>\n",
              "    <tr>\n",
              "      <th>2020.01.10</th>\n",
              "      <td>59500.0</td>\n",
              "      <td>900.0</td>\n",
              "      <td>58800.0</td>\n",
              "      <td>59700.0</td>\n",
              "      <td>58300.0</td>\n",
              "      <td>16000170.0</td>\n",
              "    </tr>\n",
              "    <tr>\n",
              "      <th>2020.01.09</th>\n",
              "      <td>58600.0</td>\n",
              "      <td>1800.0</td>\n",
              "      <td>58400.0</td>\n",
              "      <td>58600.0</td>\n",
              "      <td>57400.0</td>\n",
              "      <td>24102579.0</td>\n",
              "    </tr>\n",
              "    <tr>\n",
              "      <th>2020.01.08</th>\n",
              "      <td>56800.0</td>\n",
              "      <td>1000.0</td>\n",
              "      <td>56200.0</td>\n",
              "      <td>57400.0</td>\n",
              "      <td>55900.0</td>\n",
              "      <td>23501171.0</td>\n",
              "    </tr>\n",
              "    <tr>\n",
              "      <th>2020.01.07</th>\n",
              "      <td>55800.0</td>\n",
              "      <td>300.0</td>\n",
              "      <td>55700.0</td>\n",
              "      <td>56400.0</td>\n",
              "      <td>55600.0</td>\n",
              "      <td>10009778.0</td>\n",
              "    </tr>\n",
              "    <tr>\n",
              "      <th>2020.01.06</th>\n",
              "      <td>55500.0</td>\n",
              "      <td>0.0</td>\n",
              "      <td>54900.0</td>\n",
              "      <td>55600.0</td>\n",
              "      <td>54600.0</td>\n",
              "      <td>10278951.0</td>\n",
              "    </tr>\n",
              "    <tr>\n",
              "      <th>2020.01.03</th>\n",
              "      <td>55500.0</td>\n",
              "      <td>300.0</td>\n",
              "      <td>56000.0</td>\n",
              "      <td>56600.0</td>\n",
              "      <td>54900.0</td>\n",
              "      <td>15422255.0</td>\n",
              "    </tr>\n",
              "    <tr>\n",
              "      <th>2020.01.02</th>\n",
              "      <td>55200.0</td>\n",
              "      <td>600.0</td>\n",
              "      <td>55500.0</td>\n",
              "      <td>56000.0</td>\n",
              "      <td>55000.0</td>\n",
              "      <td>12993228.0</td>\n",
              "    </tr>\n",
              "    <tr>\n",
              "      <th>2019.12.30</th>\n",
              "      <td>55800.0</td>\n",
              "      <td>700.0</td>\n",
              "      <td>56200.0</td>\n",
              "      <td>56600.0</td>\n",
              "      <td>55700.0</td>\n",
              "      <td>8356767.0</td>\n",
              "    </tr>\n",
              "  </tbody>\n",
              "</table>\n",
              "</div>"
            ],
            "text/plain": [
              "                 종가     전일비       시가       고가       저가         거래량\n",
              "날짜                                                                \n",
              "2020.01.14  60100.0   100.0  60400.0  61000.0  60000.0  11257575.0\n",
              "2020.01.13  60000.0   500.0  59600.0  60000.0  59100.0  11359139.0\n",
              "2020.01.10  59500.0   900.0  58800.0  59700.0  58300.0  16000170.0\n",
              "2020.01.09  58600.0  1800.0  58400.0  58600.0  57400.0  24102579.0\n",
              "2020.01.08  56800.0  1000.0  56200.0  57400.0  55900.0  23501171.0\n",
              "2020.01.07  55800.0   300.0  55700.0  56400.0  55600.0  10009778.0\n",
              "2020.01.06  55500.0     0.0  54900.0  55600.0  54600.0  10278951.0\n",
              "2020.01.03  55500.0   300.0  56000.0  56600.0  54900.0  15422255.0\n",
              "2020.01.02  55200.0   600.0  55500.0  56000.0  55000.0  12993228.0\n",
              "2019.12.30  55800.0   700.0  56200.0  56600.0  55700.0   8356767.0"
            ]
          },
          "metadata": {
            "tags": []
          },
          "execution_count": 128
        }
      ]
    },
    {
      "cell_type": "code",
      "metadata": {
        "id": "BcYRqk8rVuUv",
        "colab_type": "code",
        "colab": {
          "base_uri": "https://localhost:8080/",
          "height": 32
        },
        "outputId": "e5f1e501-99a5-4317-f911-3d4dc1ae9c96"
      },
      "source": [
        "import pandas as pd\n",
        "df = pd.DataFrame()\n",
        "for page in (1,21):\n",
        "  url = 'https://finance.naver.com/item/sise_day.nhn?code=005930&page={page}'.format(page=page)\n",
        "  df.append(pd.read_html(url))\n",
        "df\n"
      ],
      "execution_count": 139,
      "outputs": [
        {
          "output_type": "execute_result",
          "data": {
            "text/html": [
              "<div>\n",
              "<style scoped>\n",
              "    .dataframe tbody tr th:only-of-type {\n",
              "        vertical-align: middle;\n",
              "    }\n",
              "\n",
              "    .dataframe tbody tr th {\n",
              "        vertical-align: top;\n",
              "    }\n",
              "\n",
              "    .dataframe thead th {\n",
              "        text-align: right;\n",
              "    }\n",
              "</style>\n",
              "<table border=\"1\" class=\"dataframe\">\n",
              "  <thead>\n",
              "    <tr style=\"text-align: right;\">\n",
              "      <th></th>\n",
              "    </tr>\n",
              "  </thead>\n",
              "  <tbody>\n",
              "  </tbody>\n",
              "</table>\n",
              "</div>"
            ],
            "text/plain": [
              "Empty DataFrame\n",
              "Columns: []\n",
              "Index: []"
            ]
          },
          "metadata": {
            "tags": []
          },
          "execution_count": 139
        }
      ]
    }
  ]
}