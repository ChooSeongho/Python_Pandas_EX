{
  "nbformat": 4,
  "nbformat_minor": 0,
  "metadata": {
    "colab": {
      "name": "pandas",
      "provenance": [],
      "collapsed_sections": [],
      "authorship_tag": "ABX9TyMpMaBSZxm9e1RHyVg8VJhl",
      "include_colab_link": true
    },
    "kernelspec": {
      "name": "python3",
      "display_name": "Python 3"
    }
  },
  "cells": [
    {
      "cell_type": "markdown",
      "metadata": {
        "id": "view-in-github",
        "colab_type": "text"
      },
      "source": [
        "<a href=\"https://colab.research.google.com/github/choosungho/Python_Pandas_EX/blob/master/pandas.ipynb\" target=\"_parent\"><img src=\"https://colab.research.google.com/assets/colab-badge.svg\" alt=\"Open In Colab\"/></a>"
      ]
    },
    {
      "cell_type": "markdown",
      "metadata": {
        "id": "e9REoYk6F9ms",
        "colab_type": "text"
      },
      "source": [
        "# Series **객체**"
      ]
    },
    {
      "cell_type": "code",
      "metadata": {
        "id": "eLR8yRmyE6tt",
        "colab_type": "code",
        "outputId": "69562cbd-fd98-47b0-871f-24ca29452000",
        "colab": {
          "base_uri": "https://localhost:8080/",
          "height": 305
        }
      },
      "source": [
        "import pandas as pd\n",
        "data = ['2016', '2017', '2018', '2019']\n",
        "result = pd.Series(data)\n",
        "\n",
        "print(result)\n",
        "\n",
        "result.name = \"Year\"\n",
        "print(result)\n",
        "\n",
        "result.index.name = 'No'\n",
        "print(result)"
      ],
      "execution_count": 3,
      "outputs": [
        {
          "output_type": "stream",
          "text": [
            "0    2016\n",
            "1    2017\n",
            "2    2018\n",
            "3    2019\n",
            "dtype: object\n",
            "0    2016\n",
            "1    2017\n",
            "2    2018\n",
            "3    2019\n",
            "Name: Year, dtype: object\n",
            "No\n",
            "0    2016\n",
            "1    2017\n",
            "2    2018\n",
            "3    2019\n",
            "Name: Year, dtype: object\n"
          ],
          "name": "stdout"
        }
      ]
    },
    {
      "cell_type": "code",
      "metadata": {
        "id": "IwcA2ulIGgBk",
        "colab_type": "code",
        "outputId": "8a1f373e-43a7-4081-efd3-09b1a2e2b3f5",
        "colab": {
          "base_uri": "https://localhost:8080/",
          "height": 107
        }
      },
      "source": [
        "result = pd.Series(data, index=['a','b','c','d'])\n",
        "print(result)"
      ],
      "execution_count": 0,
      "outputs": [
        {
          "output_type": "stream",
          "text": [
            "a    2016\n",
            "b    2017\n",
            "c    2018\n",
            "d    2019\n",
            "dtype: object\n"
          ],
          "name": "stdout"
        }
      ]
    },
    {
      "cell_type": "code",
      "metadata": {
        "id": "vExVvKmDGhYT",
        "colab_type": "code",
        "outputId": "1d52064c-1e39-4d05-96ac-93a6e217551d",
        "colab": {
          "base_uri": "https://localhost:8080/",
          "height": 179
        }
      },
      "source": [
        "import pandas as pd\n",
        "score = {\"kim\":85, \"Hwang\":100, \"Lee\":99, \"Choi\":80}\n",
        "result = pd.Series(score)\n",
        "print(result)\n",
        "\n",
        "print(result.index)\n",
        "print(result.values)\n",
        "print(result['Lee'])\n",
        "print(result['Hwang'])"
      ],
      "execution_count": 5,
      "outputs": [
        {
          "output_type": "stream",
          "text": [
            "kim       85\n",
            "Hwang    100\n",
            "Lee       99\n",
            "Choi      80\n",
            "dtype: int64\n",
            "Index(['kim', 'Hwang', 'Lee', 'Choi'], dtype='object')\n",
            "[ 85 100  99  80]\n",
            "99\n",
            "100\n"
          ],
          "name": "stdout"
        }
      ]
    },
    {
      "cell_type": "markdown",
      "metadata": {
        "id": "hM5eK-89ldWA",
        "colab_type": "text"
      },
      "source": [
        "# **DataFrame**"
      ]
    },
    {
      "cell_type": "code",
      "metadata": {
        "id": "Cxpt0ascXLMI",
        "colab_type": "code",
        "colab": {
          "base_uri": "https://localhost:8080/",
          "height": 233
        },
        "outputId": "91ea9a70-036c-4276-9df6-977f84286e3f"
      },
      "source": [
        "import pandas as pd\n",
        "data = {'name' : ['Lee', 'Hwang', 'Kim', 'Choi'],\"score\": [100,95,90,85],'grade' : ['A','A','B','B']}\n",
        "df = pd.DataFrame(data)\n",
        "df.index.name = 'No'\n",
        "df.columns.name = 'Info'\n",
        "print(df)\n",
        "print(df.index)\n",
        "print(df.columns)\n",
        "print(df.values)"
      ],
      "execution_count": 20,
      "outputs": [
        {
          "output_type": "stream",
          "text": [
            "Info   name  score grade\n",
            "No                      \n",
            "0       Lee    100     A\n",
            "1     Hwang     95     A\n",
            "2       Kim     90     B\n",
            "3      Choi     85     B\n",
            "RangeIndex(start=0, stop=4, step=1, name='No')\n",
            "Index(['name', 'score', 'grade'], dtype='object', name='Info')\n",
            "[['Lee' 100 'A']\n",
            " ['Hwang' 95 'A']\n",
            " ['Kim' 90 'B']\n",
            " ['Choi' 85 'B']]\n"
          ],
          "name": "stdout"
        }
      ]
    },
    {
      "cell_type": "code",
      "metadata": {
        "id": "-iROE3ppdU4_",
        "colab_type": "code",
        "colab": {
          "base_uri": "https://localhost:8080/",
          "height": 173
        },
        "outputId": "f106b526-400a-4a1b-a00d-1fb2673352e6"
      },
      "source": [
        "import pandas as pd\n",
        "data = {'name' : ['Lee', 'Hwang', 'Kim', 'Choi'],\"score\": [100,95,90,85],'grade' : ['A','A','B','B']}\n",
        "df = pd.DataFrame(data)\n",
        "c = ['name', 'grade', 'score', 'etc']\n",
        "df2 = pd.DataFrame(data, columns=c)\n",
        "df2"
      ],
      "execution_count": 21,
      "outputs": [
        {
          "output_type": "execute_result",
          "data": {
            "text/html": [
              "<div>\n",
              "<style scoped>\n",
              "    .dataframe tbody tr th:only-of-type {\n",
              "        vertical-align: middle;\n",
              "    }\n",
              "\n",
              "    .dataframe tbody tr th {\n",
              "        vertical-align: top;\n",
              "    }\n",
              "\n",
              "    .dataframe thead th {\n",
              "        text-align: right;\n",
              "    }\n",
              "</style>\n",
              "<table border=\"1\" class=\"dataframe\">\n",
              "  <thead>\n",
              "    <tr style=\"text-align: right;\">\n",
              "      <th></th>\n",
              "      <th>name</th>\n",
              "      <th>grade</th>\n",
              "      <th>score</th>\n",
              "      <th>etc</th>\n",
              "    </tr>\n",
              "  </thead>\n",
              "  <tbody>\n",
              "    <tr>\n",
              "      <th>0</th>\n",
              "      <td>Lee</td>\n",
              "      <td>A</td>\n",
              "      <td>100</td>\n",
              "      <td>NaN</td>\n",
              "    </tr>\n",
              "    <tr>\n",
              "      <th>1</th>\n",
              "      <td>Hwang</td>\n",
              "      <td>A</td>\n",
              "      <td>95</td>\n",
              "      <td>NaN</td>\n",
              "    </tr>\n",
              "    <tr>\n",
              "      <th>2</th>\n",
              "      <td>Kim</td>\n",
              "      <td>B</td>\n",
              "      <td>90</td>\n",
              "      <td>NaN</td>\n",
              "    </tr>\n",
              "    <tr>\n",
              "      <th>3</th>\n",
              "      <td>Choi</td>\n",
              "      <td>B</td>\n",
              "      <td>85</td>\n",
              "      <td>NaN</td>\n",
              "    </tr>\n",
              "  </tbody>\n",
              "</table>\n",
              "</div>"
            ],
            "text/plain": [
              "    name grade  score  etc\n",
              "0    Lee     A    100  NaN\n",
              "1  Hwang     A     95  NaN\n",
              "2    Kim     B     90  NaN\n",
              "3   Choi     B     85  NaN"
            ]
          },
          "metadata": {
            "tags": []
          },
          "execution_count": 21
        }
      ]
    },
    {
      "cell_type": "code",
      "metadata": {
        "id": "_WTHA70ReQEW",
        "colab_type": "code",
        "colab": {
          "base_uri": "https://localhost:8080/",
          "height": 593
        },
        "outputId": "908c5881-5374-44cd-e0ba-5c2f698f323e"
      },
      "source": [
        "import pandas as pd\n",
        "data = {'name' : ['David', 'Roy', 'Tina', 'Kim'], 'score' : [78,64,70,62], 'grade' : ['C','D','C','D']}\n",
        "df = pd.DataFrame(data)\n",
        "df.index.name = 'No'\n",
        "df.columns.name = 'Info'\n",
        "print(df)\n",
        "col = ['name', 'grade', 'score', 'etc']\n",
        "df2 = pd.DataFrame(data, columns=col)\n",
        "print(df2)\n",
        "print()\n",
        "print(df2['name'])\n",
        "print(df2.name)\n",
        "print(df2[['name','grade']])\n",
        "print(df2[['etc','name']])"
      ],
      "execution_count": 34,
      "outputs": [
        {
          "output_type": "stream",
          "text": [
            "Info   name  score grade\n",
            "No                      \n",
            "0     David     78     C\n",
            "1       Roy     64     D\n",
            "2      Tina     70     C\n",
            "3       Kim     62     D\n",
            "    name grade  score  etc\n",
            "0  David     C     78  NaN\n",
            "1    Roy     D     64  NaN\n",
            "2   Tina     C     70  NaN\n",
            "3    Kim     D     62  NaN\n",
            "\n",
            "0    David\n",
            "1      Roy\n",
            "2     Tina\n",
            "3      Kim\n",
            "Name: name, dtype: object\n",
            "0    David\n",
            "1      Roy\n",
            "2     Tina\n",
            "3      Kim\n",
            "Name: name, dtype: object\n",
            "    name grade\n",
            "0  David     C\n",
            "1    Roy     D\n",
            "2   Tina     C\n",
            "3    Kim     D\n",
            "   etc   name\n",
            "0  NaN  David\n",
            "1  NaN    Roy\n",
            "2  NaN   Tina\n",
            "3  NaN    Kim\n"
          ],
          "name": "stdout"
        }
      ]
    },
    {
      "cell_type": "code",
      "metadata": {
        "id": "WMPpmboRgWmG",
        "colab_type": "code",
        "colab": {
          "base_uri": "https://localhost:8080/",
          "height": 377
        },
        "outputId": "1154ab9b-7119-4ed5-e7aa-6a08df9c8bc7"
      },
      "source": [
        "#pandas 인덱싱 연습문제\n",
        "import pandas as pd\n",
        "data = {'name' : ['David', 'Roy', 'Tina', 'Kim'], 'grade' : ['C','D','C','D'], 'score' : [78,64,70,62]}\n",
        "col = ['name','grade','score','etc']\n",
        "df = pd.DataFrame(data, columns=col)\n",
        "for column in df.keys():\n",
        "  print(df[column])"
      ],
      "execution_count": 43,
      "outputs": [
        {
          "output_type": "stream",
          "text": [
            "0    David\n",
            "1      Roy\n",
            "2     Tina\n",
            "3      Kim\n",
            "Name: name, dtype: object\n",
            "0    C\n",
            "1    D\n",
            "2    C\n",
            "3    D\n",
            "Name: grade, dtype: object\n",
            "0    78\n",
            "1    64\n",
            "2    70\n",
            "3    62\n",
            "Name: score, dtype: int64\n",
            "0    NaN\n",
            "1    NaN\n",
            "2    NaN\n",
            "3    NaN\n",
            "Name: etc, dtype: object\n"
          ],
          "name": "stdout"
        }
      ]
    },
    {
      "cell_type": "code",
      "metadata": {
        "id": "8Sx3wfVJkia_",
        "colab_type": "code",
        "colab": {
          "base_uri": "https://localhost:8080/",
          "height": 197
        },
        "outputId": "cf328a0f-badc-4aaa-edbd-e931adb4ad34"
      },
      "source": [
        "import pandas as pd\n",
        "data = {'name' : ['David', 'Roy', 'Tina', 'Kim'], 'score' : [78,64,70,62], 'grade' : ['C','D','C','D']}\n",
        "col = ['name', 'grade', 'score', 'etc']\n",
        "df = pd.DataFrame(data, columns=col)\n",
        "df['etc'] = [11,22,33,44]\n",
        "print(df)\n",
        "df['etc'] = 0\n",
        "print(df)"
      ],
      "execution_count": 46,
      "outputs": [
        {
          "output_type": "stream",
          "text": [
            "    name grade  score  etc\n",
            "0  David     C     78   11\n",
            "1    Roy     D     64   22\n",
            "2   Tina     C     70   33\n",
            "3    Kim     D     62   44\n",
            "    name grade  score  etc\n",
            "0  David     C     78    0\n",
            "1    Roy     D     64    0\n",
            "2   Tina     C     70    0\n",
            "3    Kim     D     62    0\n"
          ],
          "name": "stdout"
        }
      ]
    },
    {
      "cell_type": "code",
      "metadata": {
        "id": "5tzJupRplIMn",
        "colab_type": "code",
        "colab": {
          "base_uri": "https://localhost:8080/",
          "height": 107
        },
        "outputId": "823865ec-b0d5-490a-b75d-b526b5ff74e3"
      },
      "source": [
        "#pandas 데이터 변경 연습문제\n",
        "import pandas as pd\n",
        "data = {'name' : ['David', 'Roy', 'Tina', 'Kim'], 'score' : [78,64,70,62], 'grade' : ['C','D','C','D']}\n",
        "col = ['name', 'grade', 'score', 'etc']\n",
        "df = pd.DataFrame(data, columns=col)\n",
        "df['etc'] = [99,88,77,66]\n",
        "print(df)"
      ],
      "execution_count": 48,
      "outputs": [
        {
          "output_type": "stream",
          "text": [
            "    name grade  score  etc\n",
            "0  David     C     78   99\n",
            "1    Roy     D     64   88\n",
            "2   Tina     C     70   77\n",
            "3    Kim     D     62   66\n"
          ],
          "name": "stdout"
        }
      ]
    },
    {
      "cell_type": "code",
      "metadata": {
        "id": "PuTV-sRfmtu4",
        "colab_type": "code",
        "colab": {
          "base_uri": "https://localhost:8080/",
          "height": 917
        },
        "outputId": "4967c51e-557a-4857-f2de-fc2d8dde0667"
      },
      "source": [
        "import pandas as pd\n",
        "import numpy as np\n",
        "data = {'name':['Lee', 'hwang', 'Kim', 'Choi'], 'score':[100,95,90,85], 'grade':['A','A','B','B']}\n",
        "df2 = pd.DataFrame(data)\n",
        "df2['etc'] = np.zeros(4)\n",
        "print(df2)\n",
        "print()\n",
        "points = pd.Series([1.5,1.7,2.4], index=[0,1,2])\n",
        "print(points)\n",
        "print()\n",
        "df2['points'] = points\n",
        "print(df2)\n",
        "print()\n",
        "df2['high_score'] = df2['score'] > 90\n",
        "print(df2)\n",
        "#loc => loc[행조건, 열조건]\n",
        "df2.loc[5,:] = ['Su', 'C', 70, 0.0, 1.1, False]\n",
        "print(df2)\n",
        "del df2['etc']\n",
        "print(df2)\n",
        "print(df2.drop(5))\n",
        "print(df2)\n",
        "df2.drop(5, inplace=True)\n",
        "print(df2)"
      ],
      "execution_count": 63,
      "outputs": [
        {
          "output_type": "stream",
          "text": [
            "    name  score grade  etc\n",
            "0    Lee    100     A  0.0\n",
            "1  hwang     95     A  0.0\n",
            "2    Kim     90     B  0.0\n",
            "3   Choi     85     B  0.0\n",
            "\n",
            "0    1.5\n",
            "1    1.7\n",
            "2    2.4\n",
            "dtype: float64\n",
            "\n",
            "    name  score grade  etc  points\n",
            "0    Lee    100     A  0.0     1.5\n",
            "1  hwang     95     A  0.0     1.7\n",
            "2    Kim     90     B  0.0     2.4\n",
            "3   Choi     85     B  0.0     NaN\n",
            "\n",
            "    name  score grade  etc  points  high_score\n",
            "0    Lee    100     A  0.0     1.5        True\n",
            "1  hwang     95     A  0.0     1.7        True\n",
            "2    Kim     90     B  0.0     2.4       False\n",
            "3   Choi     85     B  0.0     NaN       False\n",
            "    name score grade  etc  points  high_score\n",
            "0    Lee   100     A  0.0     1.5        True\n",
            "1  hwang    95     A  0.0     1.7        True\n",
            "2    Kim    90     B  0.0     2.4       False\n",
            "3   Choi    85     B  0.0     NaN       False\n",
            "5     Su     C    70  0.0     1.1       False\n",
            "    name score grade  points  high_score\n",
            "0    Lee   100     A     1.5        True\n",
            "1  hwang    95     A     1.7        True\n",
            "2    Kim    90     B     2.4       False\n",
            "3   Choi    85     B     NaN       False\n",
            "5     Su     C    70     1.1       False\n",
            "    name score grade  points  high_score\n",
            "0    Lee   100     A     1.5        True\n",
            "1  hwang    95     A     1.7        True\n",
            "2    Kim    90     B     2.4       False\n",
            "3   Choi    85     B     NaN       False\n",
            "    name score grade  points  high_score\n",
            "0    Lee   100     A     1.5        True\n",
            "1  hwang    95     A     1.7        True\n",
            "2    Kim    90     B     2.4       False\n",
            "3   Choi    85     B     NaN       False\n",
            "5     Su     C    70     1.1       False\n",
            "    name score grade  points  high_score\n",
            "0    Lee   100     A     1.5        True\n",
            "1  hwang    95     A     1.7        True\n",
            "2    Kim    90     B     2.4       False\n",
            "3   Choi    85     B     NaN       False\n"
          ],
          "name": "stdout"
        }
      ]
    },
    {
      "cell_type": "code",
      "metadata": {
        "id": "fnYw4eD4p__1",
        "colab_type": "code",
        "colab": {
          "base_uri": "https://localhost:8080/",
          "height": 755
        },
        "outputId": "e7569ecd-acc8-4243-9b08-133da0e1c1c6"
      },
      "source": [
        "import pandas as pd\n",
        "import numpy as np\n",
        "data = {'name':['Lee', 'hwang', 'Kim', 'Choi'], 'score':[100,95,90,85], 'grade':['A','A','B','B']}\n",
        "df2 = pd.DataFrame(data)\n",
        "points = pd.Series([1.5,1.7,2.4], index=[0,1,2])\n",
        "df2['points'] = points\n",
        "df2['high_score'] = df2['score'] > 90\n",
        "print(df2)\n",
        "df2.set_index('name', inplace=True)\n",
        "print(df2)\n",
        "print(df2[1:3])\n",
        "print(df2[:2])\n",
        "print()\n",
        "print(df2.loc['Lee'])\n",
        "print()\n",
        "print(df2.loc[['Lee','Choi']])\n",
        "print()\n",
        "print(df2.loc[:'Kim'])\n",
        "print()\n",
        "print(df2.loc['Kim':'Choi', ['grade', 'high_score']])"
      ],
      "execution_count": 71,
      "outputs": [
        {
          "output_type": "stream",
          "text": [
            "    name  score grade  points  high_score\n",
            "0    Lee    100     A     1.5        True\n",
            "1  hwang     95     A     1.7        True\n",
            "2    Kim     90     B     2.4       False\n",
            "3   Choi     85     B     NaN       False\n",
            "       score grade  points  high_score\n",
            "name                                  \n",
            "Lee      100     A     1.5        True\n",
            "hwang     95     A     1.7        True\n",
            "Kim       90     B     2.4       False\n",
            "Choi      85     B     NaN       False\n",
            "       score grade  points  high_score\n",
            "name                                  \n",
            "hwang     95     A     1.7        True\n",
            "Kim       90     B     2.4       False\n",
            "       score grade  points  high_score\n",
            "name                                  \n",
            "Lee      100     A     1.5        True\n",
            "hwang     95     A     1.7        True\n",
            "\n",
            "score          100\n",
            "grade            A\n",
            "points         1.5\n",
            "high_score    True\n",
            "Name: Lee, dtype: object\n",
            "\n",
            "      score grade  points  high_score\n",
            "name                                 \n",
            "Lee     100     A     1.5        True\n",
            "Choi     85     B     NaN       False\n",
            "\n",
            "       score grade  points  high_score\n",
            "name                                  \n",
            "Lee      100     A     1.5        True\n",
            "hwang     95     A     1.7        True\n",
            "Kim       90     B     2.4       False\n",
            "\n",
            "     grade  high_score\n",
            "name                  \n",
            "Kim      B       False\n",
            "Choi     B       False\n"
          ],
          "name": "stdout"
        }
      ]
    },
    {
      "cell_type": "code",
      "metadata": {
        "id": "5SLTj42ps_zI",
        "colab_type": "code",
        "colab": {
          "base_uri": "https://localhost:8080/",
          "height": 341
        },
        "outputId": "0237eab5-389e-4a7e-f027-c758f1e6f871"
      },
      "source": [
        "import pandas as pd\n",
        "import numpy as np\n",
        "data = {'name':['Lee', 'hwang', 'Kim', 'Choi'], 'score':[100,95,90,85], 'grade':['A','A','B','B']}\n",
        "df2 = pd.DataFrame(data)\n",
        "points = pd.Series([1.5,1.7,2.4], index=[0,1,2])\n",
        "df2['points'] = points\n",
        "df2['high_score'] = df2['score'] > 90\n",
        "df2.set_index('name', inplace=True)\n",
        "print(df2.iloc[0:3])\n",
        "#print(df2.iloc[4])  #--> index error 발생\n",
        "print(df2.iloc[0:3, 1:3])\n",
        "print(df2.loc[df2['points'] > 1.5, :])\n",
        "print(df2.loc[df2['grade'] == 'A', :])"
      ],
      "execution_count": 76,
      "outputs": [
        {
          "output_type": "stream",
          "text": [
            "       score grade  points  high_score\n",
            "name                                  \n",
            "Lee      100     A     1.5        True\n",
            "hwang     95     A     1.7        True\n",
            "Kim       90     B     2.4       False\n",
            "      grade  points\n",
            "name               \n",
            "Lee       A     1.5\n",
            "hwang     A     1.7\n",
            "Kim       B     2.4\n",
            "       score grade  points  high_score\n",
            "name                                  \n",
            "hwang     95     A     1.7        True\n",
            "Kim       90     B     2.4       False\n",
            "       score grade  points  high_score\n",
            "name                                  \n",
            "Lee      100     A     1.5        True\n",
            "hwang     95     A     1.7        True\n"
          ],
          "name": "stdout"
        }
      ]
    }
  ]
}